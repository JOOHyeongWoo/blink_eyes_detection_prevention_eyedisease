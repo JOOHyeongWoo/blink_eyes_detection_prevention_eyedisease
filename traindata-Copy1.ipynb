{
 "cells": [
  {
   "cell_type": "code",
   "execution_count": 3,
   "metadata": {},
   "outputs": [],
   "source": [
    "import datetime\n",
    "import numpy as np\n",
    "import matplotlib.pyplot as plt\n",
    "from keras.layers import Input, Activation, Conv2D, Flatten, Dense, MaxPooling2D\n",
    "from keras.models import Model, load_model\n",
    "from keras.preprocessing.image import ImageDataGenerator\n",
    "from keras.callbacks import ModelCheckpoint, ReduceLROnPlateau\n",
    "plt.style.use('dark_background')"
   ]
  },
  {
   "cell_type": "code",
   "execution_count": 4,
   "metadata": {},
   "outputs": [
    {
     "name": "stdout",
     "output_type": "stream",
     "text": [
      "(2586, 26, 34, 1) (2586, 1)\n",
      "(288, 26, 34, 1) (288, 1)\n"
     ]
    }
   ],
   "source": [
    "x_train = np.load('newdataset/x_train.npy').astype(np.float32)\n",
    "y_train = np.load('newdataset/y_train.npy').astype(np.float32)\n",
    "x_val = np.load('newdataset/x_val.npy').astype(np.float32)\n",
    "y_val = np.load('newdataset/y_val.npy').astype(np.float32)\n",
    "\n",
    "print(x_train.shape, y_train.shape)\n",
    "print(x_val.shape, y_val.shape)"
   ]
  },
  {
   "cell_type": "code",
   "execution_count": 5,
   "metadata": {},
   "outputs": [
    {
     "data": {
      "text/plain": [
       "<matplotlib.image.AxesImage at 0x2d9d69d26a0>"
      ]
     },
     "execution_count": 5,
     "metadata": {},
     "output_type": "execute_result"
    },
    {
     "data": {
      "image/png": "[encoded data removed]",
      "text/plain": [
       "<Figure size 432x288 with 2 Axes>"
      ]
     },
     "metadata": {},
     "output_type": "display_data"
    }
   ],
   "source": [
    "plt.subplot(2, 1, 1)\n",
    "plt.title(str(y_train[8]))\n",
    "plt.imshow(x_train[8].reshape((26, 34)), cmap='gray')\n",
    "plt.subplot(2, 1, 2)\n",
    "plt.title(str(y_val[4]))\n",
    "plt.imshow(x_val[4].reshape((26, 34)), cmap='gray')"
   ]
  },
  {
   "cell_type": "code",
   "execution_count": 10,
   "metadata": {},
   "outputs": [],
   "source": [
    "train_datagen = ImageDataGenerator(\n",
    "    rescale=1./255,\n",
    "    brightness_range=[0.2,1.0],\n",
    "    rotation_range=30,\n",
    "    width_shift_range=0.2,\n",
    "    height_shift_range=0.2,\n",
    "    shear_range=0.2\n",
    ")\n",
    "\n",
    "val_datagen = ImageDataGenerator(rescale=1./255)\n",
    "\n",
    "train_generator = train_datagen.flow(\n",
    "    x=x_train, y=y_train,\n",
    "    batch_size=32,\n",
    "    shuffle=True\n",
    ")\n",
    "\n",
    "val_generator = val_datagen.flow(\n",
    "    x=x_val, y=y_val,\n",
    "    batch_size=32,\n",
    "    shuffle=False\n",
    ")"
   ]
  },
  {
   "cell_type": "code",
   "execution_count": 11,
   "metadata": {},
   "outputs": [
    {
     "name": "stdout",
     "output_type": "stream",
     "text": [
      "Model: \"model_2\"\n",
      "_________________________________________________________________\n",
      "Layer (type)                 Output Shape              Param #   \n",
      "=================================================================\n",
      "input_3 (InputLayer)         [(None, 26, 34, 1)]       0         \n",
      "_________________________________________________________________\n",
      "conv2d_6 (Conv2D)            (None, 26, 34, 32)        320       \n",
      "_________________________________________________________________\n",
      "max_pooling2d_6 (MaxPooling2 (None, 13, 17, 32)        0         \n",
      "_________________________________________________________________\n",
      "conv2d_7 (Conv2D)            (None, 13, 17, 64)        18496     \n",
      "_________________________________________________________________\n",
      "max_pooling2d_7 (MaxPooling2 (None, 6, 8, 64)          0         \n",
      "_________________________________________________________________\n",
      "conv2d_8 (Conv2D)            (None, 6, 8, 128)         73856     \n",
      "_________________________________________________________________\n",
      "max_pooling2d_8 (MaxPooling2 (None, 3, 4, 128)         0         \n",
      "_________________________________________________________________\n",
      "flatten_2 (Flatten)          (None, 1536)              0         \n",
      "_________________________________________________________________\n",
      "dense_4 (Dense)              (None, 512)               786944    \n",
      "_________________________________________________________________\n",
      "activation_4 (Activation)    (None, 512)               0         \n",
      "_________________________________________________________________\n",
      "dense_5 (Dense)              (None, 1)                 513       \n",
      "_________________________________________________________________\n",
      "activation_5 (Activation)    (None, 1)                 0         \n",
      "=================================================================\n",
      "Total params: 880,129\n",
      "Trainable params: 880,129\n",
      "Non-trainable params: 0\n",
      "_________________________________________________________________\n"
     ]
    }
   ],
   "source": [
    "inputs = Input(shape=(26, 34, 1))\n",
    "\n",
    "net = Conv2D(32, kernel_size=3, strides=1, padding='same', activation='relu')(inputs)\n",
    "net = MaxPooling2D(pool_size=2)(net)\n",
    "\n",
    "net = Conv2D(64, kernel_size=3, strides=1, padding='same', activation='relu')(net)\n",
    "net = MaxPooling2D(pool_size=2)(net)\n",
    "\n",
    "net = Conv2D(128, kernel_size=3, strides=1, padding='same', activation='relu')(net)\n",
    "net = MaxPooling2D(pool_size=2)(net)\n",
    "\n",
    "net = Flatten()(net)\n",
    "\n",
    "net = Dense(512)(net)\n",
    "net = Activation('relu')(net)\n",
    "net = Dense(1)(net)\n",
    "outputs = Activation('sigmoid')(net)\n",
    "\n",
    "model = Model(inputs=inputs, outputs=outputs)\n",
    "\n",
    "model.compile(optimizer='adam', loss='binary_crossentropy', metrics=['acc'])\n",
    "\n",
    "model.summary()"
   ]
  },
  {
   "cell_type": "code",
   "execution_count": null,
   "metadata": {},
   "outputs": [
    {
     "name": "stderr",
     "output_type": "stream",
     "text": [
      "C:\\Users\\kkeee\\anaconda3\\envs\\blinkeye\\lib\\site-packages\\tensorflow\\python\\keras\\engine\\training.py:1844: UserWarning: `Model.fit_generator` is deprecated and will be removed in a future version. Please use `Model.fit`, which supports generators.\n",
      "  warnings.warn('`Model.fit_generator` is deprecated and '\n"
     ]
    },
    {
     "name": "stdout",
     "output_type": "stream",
     "text": [
      "Epoch 1/50\n",
      "81/81 [==============================] - 3s 37ms/step - loss: 0.5608 - acc: 0.6909 - val_loss: 0.8020 - val_acc: 0.6840\n",
      "\n",
      "Epoch 00001: val_acc improved from -inf to 0.68403, saving model to models\\2021_06_04_09_47_46.h5\n",
      "Epoch 2/50\n",
      "81/81 [==============================] - 3s 32ms/step - loss: 0.2045 - acc: 0.9273 - val_loss: 1.1176 - val_acc: 0.6597\n",
      "\n",
      "Epoch 00002: val_acc did not improve from 0.68403\n",
      "Epoch 3/50\n",
      "81/81 [==============================] - 3s 32ms/step - loss: 0.1469 - acc: 0.9581 - val_loss: 0.7174 - val_acc: 0.6944\n",
      "\n",
      "Epoch 00003: val_acc improved from 0.68403 to 0.69444, saving model to models\\2021_06_04_09_47_46.h5\n",
      "Epoch 4/50\n",
      "81/81 [==============================] - 3s 32ms/step - loss: 0.1021 - acc: 0.9708 - val_loss: 1.3469 - val_acc: 0.7014\n",
      "\n",
      "Epoch 00004: val_acc improved from 0.69444 to 0.70139, saving model to models\\2021_06_04_09_47_46.h5\n",
      "Epoch 5/50\n",
      "81/81 [==============================] - 3s 32ms/step - loss: 0.1113 - acc: 0.9672 - val_loss: 0.9288 - val_acc: 0.6979\n",
      "\n",
      "Epoch 00005: val_acc did not improve from 0.70139\n",
      "Epoch 6/50\n",
      "81/81 [==============================] - 3s 32ms/step - loss: 0.0721 - acc: 0.9800 - val_loss: 0.8372 - val_acc: 0.7257\n",
      "\n",
      "Epoch 00006: val_acc improved from 0.70139 to 0.72569, saving model to models\\2021_06_04_09_47_46.h5\n",
      "Epoch 7/50\n",
      "81/81 [==============================] - 3s 32ms/step - loss: 0.0641 - acc: 0.9830 - val_loss: 0.4359 - val_acc: 0.7812\n",
      "\n",
      "Epoch 00007: val_acc improved from 0.72569 to 0.78125, saving model to models\\2021_06_04_09_47_46.h5\n",
      "Epoch 8/50\n",
      "81/81 [==============================] - 3s 31ms/step - loss: 0.0911 - acc: 0.9740 - val_loss: 0.9579 - val_acc: 0.6979\n",
      "\n",
      "Epoch 00008: val_acc did not improve from 0.78125\n",
      "Epoch 9/50\n",
      "81/81 [==============================] - 3s 32ms/step - loss: 0.0531 - acc: 0.9816 - val_loss: 1.0354 - val_acc: 0.6979\n",
      "\n",
      "Epoch 00009: val_acc did not improve from 0.78125\n",
      "Epoch 10/50\n",
      "81/81 [==============================] - 3s 32ms/step - loss: 0.0342 - acc: 0.9890 - val_loss: 1.4220 - val_acc: 0.6979\n",
      "\n",
      "Epoch 00010: val_acc did not improve from 0.78125\n",
      "Epoch 11/50\n",
      "81/81 [==============================] - 3s 33ms/step - loss: 0.0490 - acc: 0.9861 - val_loss: 0.7763 - val_acc: 0.7257\n",
      "\n",
      "Epoch 00011: val_acc did not improve from 0.78125\n",
      "Epoch 12/50\n",
      "81/81 [==============================] - 3s 33ms/step - loss: 0.0533 - acc: 0.9809 - val_loss: 0.6178 - val_acc: 0.7292\n",
      "\n",
      "Epoch 00012: val_acc did not improve from 0.78125\n",
      "Epoch 13/50\n",
      "81/81 [==============================] - 3s 33ms/step - loss: 0.0395 - acc: 0.9870 - val_loss: 0.6725 - val_acc: 0.7535\n",
      "\n",
      "Epoch 00013: val_acc did not improve from 0.78125\n",
      "Epoch 14/50\n",
      "81/81 [==============================] - 3s 32ms/step - loss: 0.0473 - acc: 0.9818 - val_loss: 0.5724 - val_acc: 0.7778\n",
      "\n",
      "Epoch 00014: val_acc did not improve from 0.78125\n",
      "Epoch 15/50\n",
      "81/81 [==============================] - 3s 32ms/step - loss: 0.0291 - acc: 0.9899 - val_loss: 0.4334 - val_acc: 0.8125\n",
      "\n",
      "Epoch 00015: val_acc improved from 0.78125 to 0.81250, saving model to models\\2021_06_04_09_47_46.h5\n",
      "Epoch 16/50\n",
      "81/81 [==============================] - 3s 32ms/step - loss: 0.0400 - acc: 0.9864 - val_loss: 0.6862 - val_acc: 0.7535\n",
      "\n",
      "Epoch 00016: val_acc did not improve from 0.81250\n",
      "Epoch 17/50\n",
      "81/81 [==============================] - 3s 32ms/step - loss: 0.0466 - acc: 0.9871 - val_loss: 0.4889 - val_acc: 0.8056\n",
      "\n",
      "Epoch 00017: val_acc did not improve from 0.81250\n",
      "Epoch 18/50\n",
      "81/81 [==============================] - 3s 33ms/step - loss: 0.0274 - acc: 0.9919 - val_loss: 0.8177 - val_acc: 0.7188\n",
      "\n",
      "Epoch 00018: val_acc did not improve from 0.81250\n",
      "Epoch 19/50\n",
      "81/81 [==============================] - 3s 32ms/step - loss: 0.0342 - acc: 0.9891 - val_loss: 0.3701 - val_acc: 0.8472\n",
      "\n",
      "Epoch 00019: val_acc improved from 0.81250 to 0.84722, saving model to models\\2021_06_04_09_47_46.h5\n",
      "Epoch 20/50\n",
      "81/81 [==============================] - 3s 33ms/step - loss: 0.0338 - acc: 0.9901 - val_loss: 0.4059 - val_acc: 0.8021\n",
      "\n",
      "Epoch 00020: val_acc did not improve from 0.84722\n",
      "Epoch 21/50\n",
      "81/81 [==============================] - 3s 33ms/step - loss: 0.0291 - acc: 0.9903 - val_loss: 0.6258 - val_acc: 0.7396\n",
      "\n",
      "Epoch 00021: val_acc did not improve from 0.84722\n",
      "Epoch 22/50\n",
      "81/81 [==============================] - 3s 33ms/step - loss: 0.0533 - acc: 0.9803 - val_loss: 0.6781 - val_acc: 0.7396\n",
      "\n",
      "Epoch 00022: val_acc did not improve from 0.84722\n",
      "Epoch 23/50\n",
      "81/81 [==============================] - 3s 32ms/step - loss: 0.0266 - acc: 0.9933 - val_loss: 0.2890 - val_acc: 0.8438\n",
      "\n",
      "Epoch 00023: val_acc did not improve from 0.84722\n",
      "Epoch 24/50\n",
      "81/81 [==============================] - 3s 34ms/step - loss: 0.0285 - acc: 0.9878 - val_loss: 0.5182 - val_acc: 0.8125\n",
      "\n",
      "Epoch 00024: val_acc did not improve from 0.84722\n",
      "Epoch 25/50\n",
      "81/81 [==============================] - 3s 34ms/step - loss: 0.0216 - acc: 0.9926 - val_loss: 0.3574 - val_acc: 0.8472\n",
      "\n",
      "Epoch 00025: val_acc did not improve from 0.84722\n",
      "Epoch 26/50\n",
      "81/81 [==============================] - 4s 45ms/step - loss: 0.0247 - acc: 0.9895 - val_loss: 0.4160 - val_acc: 0.8333\n",
      "\n",
      "Epoch 00026: val_acc did not improve from 0.84722\n",
      "Epoch 27/50\n",
      "81/81 [==============================] - 4s 47ms/step - loss: 0.0310 - acc: 0.9886 - val_loss: 0.5572 - val_acc: 0.8090\n",
      "\n",
      "Epoch 00027: val_acc did not improve from 0.84722\n",
      "Epoch 28/50\n",
      "81/81 [==============================] - 4s 45ms/step - loss: 0.0270 - acc: 0.9897 - val_loss: 0.5345 - val_acc: 0.7847\n",
      "\n",
      "Epoch 00028: val_acc did not improve from 0.84722\n",
      "Epoch 29/50\n",
      "81/81 [==============================] - 4s 48ms/step - loss: 0.0190 - acc: 0.9936 - val_loss: 0.5022 - val_acc: 0.8194\n",
      "\n",
      "Epoch 00029: val_acc did not improve from 0.84722\n",
      "\n",
      "Epoch 00029: ReduceLROnPlateau reducing learning rate to 0.00020000000949949026.\n",
      "Epoch 30/50\n",
      "81/81 [==============================] - 4s 48ms/step - loss: 0.0102 - acc: 0.9967 - val_loss: 0.6264 - val_acc: 0.8090\n",
      "\n",
      "Epoch 00030: val_acc did not improve from 0.84722\n",
      "Epoch 31/50\n",
      "81/81 [==============================] - 4s 48ms/step - loss: 0.0107 - acc: 0.9965 - val_loss: 0.3798 - val_acc: 0.8507\n",
      "\n",
      "Epoch 00031: val_acc improved from 0.84722 to 0.85069, saving model to models\\2021_06_04_09_47_46.h5\n",
      "Epoch 32/50\n",
      "81/81 [==============================] - 4s 44ms/step - loss: 0.0096 - acc: 0.9979 - val_loss: 0.2813 - val_acc: 0.8819\n",
      "\n",
      "Epoch 00032: val_acc improved from 0.85069 to 0.88194, saving model to models\\2021_06_04_09_47_46.h5\n",
      "Epoch 33/50\n",
      "33/81 [===========>..................] - ETA: 1s - loss: 0.0057 - acc: 0.9985"
     ]
    }
   ],
   "source": [
    "start_time = datetime.datetime.now().strftime('%Y_%m_%d_%H_%M_%S')\n",
    "\n",
    "model.fit_generator(\n",
    "    train_generator, epochs=50, validation_data=val_generator,\n",
    "    callbacks=[\n",
    "        ModelCheckpoint('models/%s.h5' % (start_time), monitor='val_acc', save_best_only=True, mode='max', verbose=1),\n",
    "        ReduceLROnPlateau(monitor='val_acc', factor=0.2, patience=10, verbose=1, mode='auto', min_lr=1e-05)\n",
    "    ]\n",
    ")"
   ]
  },
  {
   "cell_type": "code",
   "execution_count": 10,
   "metadata": {},
   "outputs": [
    {
     "name": "stdout",
     "output_type": "stream",
     "text": [
      "test acc: 0.9930555555555556\n"
     ]
    },
    {
     "data": {
      "text/plain": [
       "<AxesSubplot:>"
      ]
     },
     "execution_count": 10,
     "metadata": {},
     "output_type": "execute_result"
    },
    {
     "data": {
      "image/png": "[encoded data removed]",
      "text/plain": [
       "<Figure size 432x288 with 2 Axes>"
      ]
     },
     "metadata": {},
     "output_type": "display_data"
    }
   ],
   "source": [
    "from sklearn.metrics import accuracy_score, confusion_matrix\n",
    "import seaborn as sns\n",
    "\n",
    "model = load_model('models/%s.h5' % (start_time))\n",
    "\n",
    "y_pred = model.predict(x_val/255.)\n",
    "y_pred_logical = (y_pred > 0.1).astype(np.int)\n",
    "\n",
    "print ('test acc: %s' % accuracy_score(y_val, y_pred_logical))\n",
    "cm = confusion_matrix(y_val, y_pred_logical)\n",
    "sns.heatmap(cm, annot=True)"
   ]
  },
  {
   "cell_type": "code",
   "execution_count": 11,
   "metadata": {},
   "outputs": [
    {
     "name": "stderr",
     "output_type": "stream",
     "text": [
      "C:\\Users\\kkeee\\anaconda3\\envs\\blinkeye\\lib\\site-packages\\seaborn\\distributions.py:2557: FutureWarning: `distplot` is a deprecated function and will be removed in a future version. Please adapt your code to use either `displot` (a figure-level function with similar flexibility) or `histplot` (an axes-level function for histograms).\n",
      "  warnings.warn(msg, FutureWarning)\n"
     ]
    },
    {
     "data": {
      "image/png": "[encoded data removed]",
      "text/plain": [
       "<Figure size 432x288 with 1 Axes>"
      ]
     },
     "metadata": {},
     "output_type": "display_data"
    }
   ],
   "source": [
    "ax = sns.distplot(y_pred, kde=False)"
   ]
  },
  {
   "cell_type": "code",
   "execution_count": null,
   "metadata": {},
   "outputs": [],
   "source": []
  }
 ],
 "metadata": {
  "kernelspec": {
   "display_name": "[blinkeye]",
   "language": "python",
   "name": "blinkeye"
  },
  "language_info": {
   "codemirror_mode": {
    "name": "ipython",
    "version": 3
   },
   "file_extension": ".py",
   "mimetype": "text/x-python",
   "name": "python",
   "nbconvert_exporter": "python",
   "pygments_lexer": "ipython3",
   "version": "3.6.13"
  }
 },
 "nbformat": 4,
 "nbformat_minor": 4
}
