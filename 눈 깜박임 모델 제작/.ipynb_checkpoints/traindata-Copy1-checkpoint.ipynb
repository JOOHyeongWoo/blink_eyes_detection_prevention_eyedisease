{
 "cells": [
  {
   "cell_type": "code",
   "execution_count": 3,
   "metadata": {},
   "outputs": [],
   "source": [
    "import datetime\n",
    "import numpy as np\n",
    "import matplotlib.pyplot as plt\n",
    "from keras.layers import Input, Activation, Conv2D, Flatten, Dense, MaxPooling2D\n",
    "from keras.models import Model, load_model\n",
    "from keras.preprocessing.image import ImageDataGenerator\n",
    "from keras.callbacks import ModelCheckpoint, ReduceLROnPlateau\n",
    "plt.style.use('dark_background')"
   ]
  },
  {
   "cell_type": "code",
   "execution_count": 4,
   "metadata": {},
   "outputs": [
    {
     "name": "stdout",
     "output_type": "stream",
     "text": [
      "(2586, 26, 34, 1) (2586, 1)\n",
      "(288, 26, 34, 1) (288, 1)\n"
     ]
    }
   ],
   "source": [
    "x_train = np.load('dataset/x_train.npy').astype(np.float32)\n",
    "y_train = np.load('dataset/y_train.npy').astype(np.float32)\n",
    "x_val = np.load('dataset/x_val.npy').astype(np.float32)\n",
    "y_val = np.load('dataset/y_val.npy').astype(np.float32)\n",
    "\n",
    "print(x_train.shape, y_train.shape)\n",
    "print(x_val.shape, y_val.shape)"
   ]
  },
  {
   "cell_type": "code",
   "execution_count": 5,
   "metadata": {},
   "outputs": [
    {
     "data": {
      "text/plain": [
       "<matplotlib.image.AxesImage at 0x1ce8c7a60f0>"
      ]
     },
     "execution_count": 5,
     "metadata": {},
     "output_type": "execute_result"
    },
    {
     "data": {
      "image/png": "[encoded data removed]",
      "text/plain": [
       "<Figure size 432x288 with 2 Axes>"
      ]
     },
     "metadata": {},
     "output_type": "display_data"
    }
   ],
   "source": [
    "plt.subplot(2, 1, 1)\n",
    "plt.title(str(y_train[0]))\n",
    "plt.imshow(x_train[0].reshape((26, 34)), cmap='gray')\n",
    "plt.subplot(2, 1, 2)\n",
    "plt.title(str(y_val[4]))\n",
    "plt.imshow(x_val[4].reshape((26, 34)), cmap='gray')"
   ]
  },
  {
   "cell_type": "code",
   "execution_count": 6,
   "metadata": {},
   "outputs": [],
   "source": [
    "train_datagen = ImageDataGenerator(\n",
    "    rescale=1./255,\n",
    "    rotation_range=10,\n",
    "    width_shift_range=0.2,\n",
    "    height_shift_range=0.2,\n",
    "    shear_range=0.2\n",
    ")\n",
    "\n",
    "val_datagen = ImageDataGenerator(rescale=1./255)\n",
    "\n",
    "train_generator = train_datagen.flow(\n",
    "    x=x_train, y=y_train,\n",
    "    batch_size=32,\n",
    "    shuffle=True\n",
    ")\n",
    "\n",
    "val_generator = val_datagen.flow(\n",
    "    x=x_val, y=y_val,\n",
    "    batch_size=32,\n",
    "    shuffle=False\n",
    ")"
   ]
  },
  {
   "cell_type": "code",
   "execution_count": 7,
   "metadata": {},
   "outputs": [
    {
     "name": "stdout",
     "output_type": "stream",
     "text": [
      "Model: \"model\"\n",
      "_________________________________________________________________\n",
      "Layer (type)                 Output Shape              Param #   \n",
      "=================================================================\n",
      "input_1 (InputLayer)         [(None, 26, 34, 1)]       0         \n",
      "_________________________________________________________________\n",
      "conv2d (Conv2D)              (None, 26, 34, 32)        320       \n",
      "_________________________________________________________________\n",
      "max_pooling2d (MaxPooling2D) (None, 13, 17, 32)        0         \n",
      "_________________________________________________________________\n",
      "conv2d_1 (Conv2D)            (None, 13, 17, 64)        18496     \n",
      "_________________________________________________________________\n",
      "max_pooling2d_1 (MaxPooling2 (None, 6, 8, 64)          0         \n",
      "_________________________________________________________________\n",
      "conv2d_2 (Conv2D)            (None, 6, 8, 128)         73856     \n",
      "_________________________________________________________________\n",
      "max_pooling2d_2 (MaxPooling2 (None, 3, 4, 128)         0         \n",
      "_________________________________________________________________\n",
      "flatten (Flatten)            (None, 1536)              0         \n",
      "_________________________________________________________________\n",
      "dense (Dense)                (None, 512)               786944    \n",
      "_________________________________________________________________\n",
      "activation (Activation)      (None, 512)               0         \n",
      "_________________________________________________________________\n",
      "dense_1 (Dense)              (None, 1)                 513       \n",
      "_________________________________________________________________\n",
      "activation_1 (Activation)    (None, 1)                 0         \n",
      "=================================================================\n",
      "Total params: 880,129\n",
      "Trainable params: 880,129\n",
      "Non-trainable params: 0\n",
      "_________________________________________________________________\n"
     ]
    }
   ],
   "source": [
    "inputs = Input(shape=(26, 34, 1))\n",
    "\n",
    "net = Conv2D(32, kernel_size=3, strides=1, padding='same', activation='relu')(inputs)\n",
    "net = MaxPooling2D(pool_size=2)(net)\n",
    "\n",
    "net = Conv2D(64, kernel_size=3, strides=1, padding='same', activation='relu')(net)\n",
    "net = MaxPooling2D(pool_size=2)(net)\n",
    "\n",
    "net = Conv2D(128, kernel_size=3, strides=1, padding='same', activation='relu')(net)\n",
    "net = MaxPooling2D(pool_size=2)(net)\n",
    "\n",
    "net = Flatten()(net)\n",
    "\n",
    "net = Dense(512)(net)\n",
    "net = Activation('relu')(net)\n",
    "net = Dense(1)(net)\n",
    "outputs = Activation('sigmoid')(net)\n",
    "\n",
    "model = Model(inputs=inputs, outputs=outputs)\n",
    "\n",
    "model.compile(optimizer='adam', loss='binary_crossentropy', metrics=['acc'])\n",
    "\n",
    "model.summary()"
   ]
  },
  {
   "cell_type": "code",
   "execution_count": 8,
   "metadata": {},
   "outputs": [
    {
     "name": "stderr",
     "output_type": "stream",
     "text": [
      "C:\\Users\\kkeee\\anaconda3\\envs\\blinkeye\\lib\\site-packages\\tensorflow\\python\\keras\\engine\\training.py:1844: UserWarning: `Model.fit_generator` is deprecated and will be removed in a future version. Please use `Model.fit`, which supports generators.\n",
      "  warnings.warn('`Model.fit_generator` is deprecated and '\n"
     ]
    },
    {
     "name": "stdout",
     "output_type": "stream",
     "text": [
      "Epoch 1/50\n",
      "81/81 [==============================] - 3s 31ms/step - loss: 0.5627 - acc: 0.7040 - val_loss: 0.2468 - val_acc: 0.8958\n",
      "\n",
      "Epoch 00001: val_acc improved from -inf to 0.89583, saving model to models\\2021_05_14_11_27_50.h5\n",
      "Epoch 2/50\n",
      "81/81 [==============================] - 2s 28ms/step - loss: 0.2844 - acc: 0.8929 - val_loss: 0.1110 - val_acc: 0.9583\n",
      "\n",
      "Epoch 00002: val_acc improved from 0.89583 to 0.95833, saving model to models\\2021_05_14_11_27_50.h5\n",
      "Epoch 3/50\n",
      "81/81 [==============================] - 2s 29ms/step - loss: 0.1815 - acc: 0.9314 - val_loss: 0.0607 - val_acc: 0.9826\n",
      "\n",
      "Epoch 00003: val_acc improved from 0.95833 to 0.98264, saving model to models\\2021_05_14_11_27_50.h5\n",
      "Epoch 4/50\n",
      "81/81 [==============================] - 2s 29ms/step - loss: 0.1439 - acc: 0.9500 - val_loss: 0.0548 - val_acc: 0.9826\n",
      "\n",
      "Epoch 00004: val_acc did not improve from 0.98264\n",
      "Epoch 5/50\n",
      "81/81 [==============================] - 2s 28ms/step - loss: 0.1167 - acc: 0.9629 - val_loss: 0.0336 - val_acc: 0.9896\n",
      "\n",
      "Epoch 00005: val_acc improved from 0.98264 to 0.98958, saving model to models\\2021_05_14_11_27_50.h5\n",
      "Epoch 6/50\n",
      "81/81 [==============================] - 2s 28ms/step - loss: 0.1053 - acc: 0.9646 - val_loss: 0.0310 - val_acc: 0.9861\n",
      "\n",
      "Epoch 00006: val_acc did not improve from 0.98958\n",
      "Epoch 7/50\n",
      "81/81 [==============================] - 2s 28ms/step - loss: 0.0835 - acc: 0.9723 - val_loss: 0.0384 - val_acc: 0.9896\n",
      "\n",
      "Epoch 00007: val_acc did not improve from 0.98958\n",
      "Epoch 8/50\n",
      "81/81 [==============================] - 2s 27ms/step - loss: 0.0955 - acc: 0.9640 - val_loss: 0.0224 - val_acc: 0.9861\n",
      "\n",
      "Epoch 00008: val_acc did not improve from 0.98958\n",
      "Epoch 9/50\n",
      "81/81 [==============================] - 2s 26ms/step - loss: 0.0713 - acc: 0.9757 - val_loss: 0.0213 - val_acc: 0.9931\n",
      "\n",
      "Epoch 00009: val_acc improved from 0.98958 to 0.99306, saving model to models\\2021_05_14_11_27_50.h5\n",
      "Epoch 10/50\n",
      "81/81 [==============================] - 2s 27ms/step - loss: 0.0548 - acc: 0.9833 - val_loss: 0.0262 - val_acc: 0.9931\n",
      "\n",
      "Epoch 00010: val_acc did not improve from 0.99306\n",
      "Epoch 11/50\n",
      "81/81 [==============================] - 2s 26ms/step - loss: 0.0762 - acc: 0.9783 - val_loss: 0.0381 - val_acc: 0.9931\n",
      "\n",
      "Epoch 00011: val_acc did not improve from 0.99306\n",
      "Epoch 12/50\n",
      "81/81 [==============================] - 2s 26ms/step - loss: 0.0518 - acc: 0.9846 - val_loss: 0.0155 - val_acc: 0.9931\n",
      "\n",
      "Epoch 00012: val_acc did not improve from 0.99306\n",
      "Epoch 13/50\n",
      "81/81 [==============================] - 2s 26ms/step - loss: 0.0555 - acc: 0.9831 - val_loss: 0.0115 - val_acc: 1.0000\n",
      "\n",
      "Epoch 00013: val_acc improved from 0.99306 to 1.00000, saving model to models\\2021_05_14_11_27_50.h5\n",
      "Epoch 14/50\n",
      "81/81 [==============================] - 2s 27ms/step - loss: 0.0357 - acc: 0.9886 - val_loss: 0.0122 - val_acc: 0.9931\n",
      "\n",
      "Epoch 00014: val_acc did not improve from 1.00000\n",
      "Epoch 15/50\n",
      "81/81 [==============================] - 2s 27ms/step - loss: 0.0399 - acc: 0.9881 - val_loss: 0.0084 - val_acc: 0.9965\n",
      "\n",
      "Epoch 00015: val_acc did not improve from 1.00000\n",
      "Epoch 16/50\n",
      "81/81 [==============================] - 2s 26ms/step - loss: 0.0312 - acc: 0.9905 - val_loss: 0.0148 - val_acc: 0.9931\n",
      "\n",
      "Epoch 00016: val_acc did not improve from 1.00000\n",
      "Epoch 17/50\n",
      "81/81 [==============================] - 2s 26ms/step - loss: 0.0417 - acc: 0.9877 - val_loss: 0.0645 - val_acc: 0.9757\n",
      "\n",
      "Epoch 00017: val_acc did not improve from 1.00000\n",
      "Epoch 18/50\n",
      "81/81 [==============================] - 2s 26ms/step - loss: 0.0314 - acc: 0.9883 - val_loss: 0.0083 - val_acc: 1.0000\n",
      "\n",
      "Epoch 00018: val_acc did not improve from 1.00000\n",
      "Epoch 19/50\n",
      "81/81 [==============================] - 2s 27ms/step - loss: 0.0310 - acc: 0.9890 - val_loss: 0.0151 - val_acc: 0.9965\n",
      "\n",
      "Epoch 00019: val_acc did not improve from 1.00000\n",
      "Epoch 20/50\n",
      "81/81 [==============================] - 2s 26ms/step - loss: 0.0296 - acc: 0.9907 - val_loss: 0.0024 - val_acc: 1.0000\n",
      "\n",
      "Epoch 00020: val_acc did not improve from 1.00000\n",
      "Epoch 21/50\n",
      "81/81 [==============================] - 2s 27ms/step - loss: 0.0199 - acc: 0.9966 - val_loss: 0.0124 - val_acc: 0.9965\n",
      "\n",
      "Epoch 00021: val_acc did not improve from 1.00000\n",
      "Epoch 22/50\n",
      "81/81 [==============================] - 2s 27ms/step - loss: 0.0276 - acc: 0.9909 - val_loss: 0.0095 - val_acc: 1.0000\n",
      "\n",
      "Epoch 00022: val_acc did not improve from 1.00000\n",
      "Epoch 23/50\n",
      "81/81 [==============================] - 2s 28ms/step - loss: 0.0511 - acc: 0.9868 - val_loss: 0.0127 - val_acc: 0.9931\n",
      "\n",
      "Epoch 00023: val_acc did not improve from 1.00000\n",
      "\n",
      "Epoch 00023: ReduceLROnPlateau reducing learning rate to 0.00020000000949949026.\n",
      "Epoch 24/50\n",
      "81/81 [==============================] - 2s 27ms/step - loss: 0.0198 - acc: 0.9895 - val_loss: 0.0020 - val_acc: 1.0000\n",
      "\n",
      "Epoch 00024: val_acc did not improve from 1.00000\n",
      "Epoch 25/50\n",
      "81/81 [==============================] - 2s 26ms/step - loss: 0.0132 - acc: 0.9946 - val_loss: 0.0018 - val_acc: 1.0000\n",
      "\n",
      "Epoch 00025: val_acc did not improve from 1.00000\n",
      "Epoch 26/50\n",
      "81/81 [==============================] - 2s 26ms/step - loss: 0.0154 - acc: 0.9956 - val_loss: 0.0020 - val_acc: 1.0000\n",
      "\n",
      "Epoch 00026: val_acc did not improve from 1.00000\n",
      "Epoch 27/50\n",
      "81/81 [==============================] - 2s 27ms/step - loss: 0.0110 - acc: 0.9965 - val_loss: 0.0020 - val_acc: 1.0000\n",
      "\n",
      "Epoch 00027: val_acc did not improve from 1.00000\n",
      "Epoch 28/50\n",
      "81/81 [==============================] - 2s 28ms/step - loss: 0.0109 - acc: 0.9973 - val_loss: 0.0021 - val_acc: 1.0000\n",
      "\n",
      "Epoch 00028: val_acc did not improve from 1.00000\n",
      "Epoch 29/50\n",
      "81/81 [==============================] - 3s 33ms/step - loss: 0.0088 - acc: 0.9979 - val_loss: 8.8507e-04 - val_acc: 1.0000\n",
      "\n",
      "Epoch 00029: val_acc did not improve from 1.00000\n",
      "Epoch 30/50\n",
      "81/81 [==============================] - 3s 34ms/step - loss: 0.0120 - acc: 0.9961 - val_loss: 0.0026 - val_acc: 1.0000\n",
      "\n",
      "Epoch 00030: val_acc did not improve from 1.00000\n",
      "Epoch 31/50\n",
      "81/81 [==============================] - 3s 35ms/step - loss: 0.0126 - acc: 0.9972 - val_loss: 0.0016 - val_acc: 1.0000\n",
      "\n",
      "Epoch 00031: val_acc did not improve from 1.00000\n",
      "Epoch 32/50\n",
      "81/81 [==============================] - 3s 35ms/step - loss: 0.0077 - acc: 0.9977 - val_loss: 0.0013 - val_acc: 1.0000\n",
      "\n",
      "Epoch 00032: val_acc did not improve from 1.00000\n",
      "Epoch 33/50\n",
      "81/81 [==============================] - 3s 35ms/step - loss: 0.0121 - acc: 0.9946 - val_loss: 0.0012 - val_acc: 1.0000\n",
      "\n",
      "Epoch 00033: val_acc did not improve from 1.00000\n",
      "\n",
      "Epoch 00033: ReduceLROnPlateau reducing learning rate to 4.0000001899898055e-05.\n",
      "Epoch 34/50\n",
      "81/81 [==============================] - 3s 36ms/step - loss: 0.0126 - acc: 0.9952 - val_loss: 0.0011 - val_acc: 1.0000\n",
      "\n",
      "Epoch 00034: val_acc did not improve from 1.00000\n",
      "Epoch 35/50\n",
      "81/81 [==============================] - 3s 37ms/step - loss: 0.0071 - acc: 0.9987 - val_loss: 0.0012 - val_acc: 1.0000\n",
      "\n",
      "Epoch 00035: val_acc did not improve from 1.00000\n",
      "Epoch 36/50\n",
      "81/81 [==============================] - 3s 37ms/step - loss: 0.0076 - acc: 0.9974 - val_loss: 0.0010 - val_acc: 1.0000\n",
      "\n",
      "Epoch 00036: val_acc did not improve from 1.00000\n",
      "Epoch 37/50\n",
      "81/81 [==============================] - 3s 39ms/step - loss: 0.0061 - acc: 0.9980 - val_loss: 0.0011 - val_acc: 1.0000\n",
      "\n",
      "Epoch 00037: val_acc did not improve from 1.00000\n",
      "Epoch 38/50\n",
      "81/81 [==============================] - 3s 39ms/step - loss: 0.0109 - acc: 0.9965 - val_loss: 0.0010 - val_acc: 1.0000\n",
      "\n",
      "Epoch 00038: val_acc did not improve from 1.00000\n",
      "Epoch 39/50\n",
      "81/81 [==============================] - 3s 37ms/step - loss: 0.0088 - acc: 0.9980 - val_loss: 0.0010 - val_acc: 1.0000\n",
      "\n",
      "Epoch 00039: val_acc did not improve from 1.00000\n",
      "Epoch 40/50\n",
      "81/81 [==============================] - 3s 37ms/step - loss: 0.0074 - acc: 0.9981 - val_loss: 0.0012 - val_acc: 1.0000\n",
      "\n",
      "Epoch 00040: val_acc did not improve from 1.00000\n",
      "Epoch 41/50\n",
      "81/81 [==============================] - 3s 36ms/step - loss: 0.0067 - acc: 0.9984 - val_loss: 0.0011 - val_acc: 1.0000\n",
      "\n",
      "Epoch 00041: val_acc did not improve from 1.00000\n",
      "Epoch 42/50\n",
      "81/81 [==============================] - 3s 35ms/step - loss: 0.0038 - acc: 0.9993 - val_loss: 0.0010 - val_acc: 1.0000\n",
      "\n",
      "Epoch 00042: val_acc did not improve from 1.00000\n",
      "Epoch 43/50\n"
     ]
    },
    {
     "name": "stdout",
     "output_type": "stream",
     "text": [
      "81/81 [==============================] - 3s 33ms/step - loss: 0.0082 - acc: 0.9977 - val_loss: 0.0010 - val_acc: 1.0000\n",
      "\n",
      "Epoch 00043: val_acc did not improve from 1.00000\n",
      "\n",
      "Epoch 00043: ReduceLROnPlateau reducing learning rate to 1e-05.\n",
      "Epoch 44/50\n",
      "81/81 [==============================] - 3s 33ms/step - loss: 0.0054 - acc: 0.9986 - val_loss: 0.0011 - val_acc: 1.0000\n",
      "\n",
      "Epoch 00044: val_acc did not improve from 1.00000\n",
      "Epoch 45/50\n",
      "81/81 [==============================] - 3s 33ms/step - loss: 0.0040 - acc: 0.9997 - val_loss: 0.0010 - val_acc: 1.0000\n",
      "\n",
      "Epoch 00045: val_acc did not improve from 1.00000\n",
      "Epoch 46/50\n",
      "81/81 [==============================] - 3s 32ms/step - loss: 0.0080 - acc: 0.9983 - val_loss: 0.0010 - val_acc: 1.0000\n",
      "\n",
      "Epoch 00046: val_acc did not improve from 1.00000\n",
      "Epoch 47/50\n",
      "81/81 [==============================] - 3s 32ms/step - loss: 0.0053 - acc: 0.9987 - val_loss: 0.0010 - val_acc: 1.0000\n",
      "\n",
      "Epoch 00047: val_acc did not improve from 1.00000\n",
      "Epoch 48/50\n",
      "81/81 [==============================] - 2s 31ms/step - loss: 0.0044 - acc: 0.9988 - val_loss: 0.0010 - val_acc: 1.0000\n",
      "\n",
      "Epoch 00048: val_acc did not improve from 1.00000\n",
      "Epoch 49/50\n",
      "81/81 [==============================] - 3s 32ms/step - loss: 0.0044 - acc: 0.9995 - val_loss: 9.9148e-04 - val_acc: 1.0000\n",
      "\n",
      "Epoch 00049: val_acc did not improve from 1.00000\n",
      "Epoch 50/50\n",
      "81/81 [==============================] - 3s 31ms/step - loss: 0.0041 - acc: 0.9988 - val_loss: 0.0010 - val_acc: 1.0000\n",
      "\n",
      "Epoch 00050: val_acc did not improve from 1.00000\n"
     ]
    },
    {
     "data": {
      "text/plain": [
       "<tensorflow.python.keras.callbacks.History at 0x1ce8c92c470>"
      ]
     },
     "execution_count": 8,
     "metadata": {},
     "output_type": "execute_result"
    }
   ],
   "source": [
    "start_time = datetime.datetime.now().strftime('%Y_%m_%d_%H_%M_%S')\n",
    "\n",
    "model.fit_generator(\n",
    "    train_generator, epochs=50, validation_data=val_generator,\n",
    "    callbacks=[\n",
    "        ModelCheckpoint('models/%s.h5' % (start_time), monitor='val_acc', save_best_only=True, mode='max', verbose=1),\n",
    "        ReduceLROnPlateau(monitor='val_acc', factor=0.2, patience=10, verbose=1, mode='auto', min_lr=1e-05)\n",
    "    ]\n",
    ")"
   ]
  },
  {
   "cell_type": "code",
   "execution_count": 12,
   "metadata": {},
   "outputs": [
    {
     "name": "stdout",
     "output_type": "stream",
     "text": [
      "test acc: 0.9895833333333334\n"
     ]
    },
    {
     "data": {
      "text/plain": [
       "<AxesSubplot:>"
      ]
     },
     "execution_count": 12,
     "metadata": {},
     "output_type": "execute_result"
    },
    {
     "data": {
      "image/png": "[encoded data removed]",
      "text/plain": [
       "<Figure size 432x288 with 2 Axes>"
      ]
     },
     "metadata": {},
     "output_type": "display_data"
    }
   ],
   "source": [
    "from sklearn.metrics import accuracy_score, confusion_matrix\n",
    "import seaborn as sns\n",
    "\n",
    "model = load_model('models/%s.h5' % (start_time))\n",
    "\n",
    "y_pred = model.predict(x_val/255.)\n",
    "y_pred_logical = (y_pred > 0.1).astype(np.int)\n",
    "\n",
    "print ('test acc: %s' % accuracy_score(y_val, y_pred_logical))\n",
    "cm = confusion_matrix(y_val, y_pred_logical)\n",
    "sns.heatmap(cm, annot=True)"
   ]
  },
  {
   "cell_type": "code",
   "execution_count": null,
   "metadata": {},
   "outputs": [],
   "source": [
    "ax = sns.distplot(y_pred, kde=False)"
   ]
  }
 ],
 "metadata": {
  "kernelspec": {
   "display_name": "[blinkeye]",
   "language": "python",
   "name": "blinkeye"
  },
  "language_info": {
   "codemirror_mode": {
    "name": "ipython",
    "version": 3
   },
   "file_extension": ".py",
   "mimetype": "text/x-python",
   "name": "python",
   "nbconvert_exporter": "python",
   "pygments_lexer": "ipython3",
   "version": "3.6.13"
  }
 },
 "nbformat": 4,
 "nbformat_minor": 4
}
